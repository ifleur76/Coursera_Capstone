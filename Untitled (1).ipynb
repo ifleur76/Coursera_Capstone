{
 "cells": [
  {
   "cell_type": "code",
   "execution_count": null,
   "metadata": {},
   "outputs": [],
   "source": []
  },
  {
   "cell_type": "markdown",
   "metadata": {},
   "source": [
    "This notebook will mainly be used for the Capstone Project in the Applied Data Science Capstone Project."
   ]
  },
  {
   "cell_type": "code",
   "execution_count": 2,
   "metadata": {},
   "outputs": [],
   "source": [
    "import pandas as pd\n",
    "import numpy as np"
   ]
  },
  {
   "cell_type": "code",
   "execution_count": 4,
   "metadata": {},
   "outputs": [
    {
     "name": "stdout",
     "output_type": "stream",
     "text": [
      "Hello Capstone Project Course!\n"
     ]
    }
   ],
   "source": [
    "print(\"Hello Capstone Project Course!\")"
   ]
  },
  {
   "cell_type": "code",
   "execution_count": 4,
   "metadata": {},
   "outputs": [
    {
     "data": {
      "text/html": [
       "<div>\n",
       "<style scoped>\n",
       "    .dataframe tbody tr th:only-of-type {\n",
       "        vertical-align: middle;\n",
       "    }\n",
       "\n",
       "    .dataframe tbody tr th {\n",
       "        vertical-align: top;\n",
       "    }\n",
       "\n",
       "    .dataframe thead th {\n",
       "        text-align: right;\n",
       "    }\n",
       "</style>\n",
       "<table border=\"1\" class=\"dataframe\">\n",
       "  <thead>\n",
       "    <tr style=\"text-align: right;\">\n",
       "      <th></th>\n",
       "      <th>Unnamed: 0</th>\n",
       "      <th>name</th>\n",
       "      <th>review_count</th>\n",
       "      <th>rating</th>\n",
       "      <th>lat</th>\n",
       "      <th>lng</th>\n",
       "      <th>city</th>\n",
       "    </tr>\n",
       "  </thead>\n",
       "  <tbody>\n",
       "    <tr>\n",
       "      <th>0</th>\n",
       "      <td>0</td>\n",
       "      <td>Best Friend's Pet Clinic</td>\n",
       "      <td>6</td>\n",
       "      <td>5.0</td>\n",
       "      <td>37.694291</td>\n",
       "      <td>-97.451977</td>\n",
       "      <td>Wichita</td>\n",
       "    </tr>\n",
       "    <tr>\n",
       "      <th>1</th>\n",
       "      <td>1</td>\n",
       "      <td>Skaer Veterinary Clinic</td>\n",
       "      <td>9</td>\n",
       "      <td>4.5</td>\n",
       "      <td>37.680776</td>\n",
       "      <td>-97.271020</td>\n",
       "      <td>Wichita</td>\n",
       "    </tr>\n",
       "    <tr>\n",
       "      <th>2</th>\n",
       "      <td>2</td>\n",
       "      <td>Indian Hills Animal Clinics</td>\n",
       "      <td>5</td>\n",
       "      <td>5.0</td>\n",
       "      <td>37.708442</td>\n",
       "      <td>-97.380224</td>\n",
       "      <td>Wichita</td>\n",
       "    </tr>\n",
       "    <tr>\n",
       "      <th>3</th>\n",
       "      <td>3</td>\n",
       "      <td>Air Capital Veterinary Clinic</td>\n",
       "      <td>4</td>\n",
       "      <td>5.0</td>\n",
       "      <td>37.680100</td>\n",
       "      <td>-97.317355</td>\n",
       "      <td>Wichita</td>\n",
       "    </tr>\n",
       "    <tr>\n",
       "      <th>4</th>\n",
       "      <td>4</td>\n",
       "      <td>All Creatures Veterinary Hospital</td>\n",
       "      <td>4</td>\n",
       "      <td>5.0</td>\n",
       "      <td>37.710430</td>\n",
       "      <td>-97.440585</td>\n",
       "      <td>Wichita</td>\n",
       "    </tr>\n",
       "    <tr>\n",
       "      <th>5</th>\n",
       "      <td>5</td>\n",
       "      <td>Oakcrest Pet Hospital</td>\n",
       "      <td>4</td>\n",
       "      <td>5.0</td>\n",
       "      <td>37.693570</td>\n",
       "      <td>-97.482546</td>\n",
       "      <td>Wichita</td>\n",
       "    </tr>\n",
       "    <tr>\n",
       "      <th>6</th>\n",
       "      <td>6</td>\n",
       "      <td>Animal Hospital at Auburn Hills</td>\n",
       "      <td>6</td>\n",
       "      <td>4.5</td>\n",
       "      <td>37.677803</td>\n",
       "      <td>-97.495223</td>\n",
       "      <td>Wichita</td>\n",
       "    </tr>\n",
       "    <tr>\n",
       "      <th>7</th>\n",
       "      <td>7</td>\n",
       "      <td>Banfield Pet Hospital</td>\n",
       "      <td>6</td>\n",
       "      <td>4.5</td>\n",
       "      <td>37.749413</td>\n",
       "      <td>-97.247347</td>\n",
       "      <td>Wichita</td>\n",
       "    </tr>\n",
       "    <tr>\n",
       "      <th>8</th>\n",
       "      <td>8</td>\n",
       "      <td>Mulvane Animal Clinic</td>\n",
       "      <td>6</td>\n",
       "      <td>4.5</td>\n",
       "      <td>37.482212</td>\n",
       "      <td>-97.231560</td>\n",
       "      <td>Mulvane</td>\n",
       "    </tr>\n",
       "    <tr>\n",
       "      <th>9</th>\n",
       "      <td>9</td>\n",
       "      <td>Indian Hills Animal Clinic</td>\n",
       "      <td>7</td>\n",
       "      <td>4.0</td>\n",
       "      <td>37.709449</td>\n",
       "      <td>-97.461666</td>\n",
       "      <td>Wichita</td>\n",
       "    </tr>\n",
       "  </tbody>\n",
       "</table>\n",
       "</div>"
      ],
      "text/plain": [
       "   Unnamed: 0                               name  review_count  rating  \\\n",
       "0           0           Best Friend's Pet Clinic             6     5.0   \n",
       "1           1            Skaer Veterinary Clinic             9     4.5   \n",
       "2           2        Indian Hills Animal Clinics             5     5.0   \n",
       "3           3      Air Capital Veterinary Clinic             4     5.0   \n",
       "4           4  All Creatures Veterinary Hospital             4     5.0   \n",
       "5           5              Oakcrest Pet Hospital             4     5.0   \n",
       "6           6    Animal Hospital at Auburn Hills             6     4.5   \n",
       "7           7              Banfield Pet Hospital             6     4.5   \n",
       "8           8              Mulvane Animal Clinic             6     4.5   \n",
       "9           9         Indian Hills Animal Clinic             7     4.0   \n",
       "\n",
       "         lat        lng     city  \n",
       "0  37.694291 -97.451977  Wichita  \n",
       "1  37.680776 -97.271020  Wichita  \n",
       "2  37.708442 -97.380224  Wichita  \n",
       "3  37.680100 -97.317355  Wichita  \n",
       "4  37.710430 -97.440585  Wichita  \n",
       "5  37.693570 -97.482546  Wichita  \n",
       "6  37.677803 -97.495223  Wichita  \n",
       "7  37.749413 -97.247347  Wichita  \n",
       "8  37.482212 -97.231560  Mulvane  \n",
       "9  37.709449 -97.461666  Wichita  "
      ]
     },
     "execution_count": 4,
     "metadata": {},
     "output_type": "execute_result"
    }
   ],
   "source": [
    "df = pd.read_csv('vets.csv')\n",
    "df"
   ]
  },
  {
   "cell_type": "code",
   "execution_count": null,
   "metadata": {},
   "outputs": [],
   "source": []
  },
  {
   "cell_type": "code",
   "execution_count": null,
   "metadata": {},
   "outputs": [],
   "source": []
  },
  {
   "cell_type": "code",
   "execution_count": null,
   "metadata": {},
   "outputs": [],
   "source": [
    "# @hidden_cell\n",
    "CLIENT_ID = 'ZLR3MTCNRP4WWE4RKTQ2POK0AHPJM4JOHU2N03DF' # your Foursquare ID\n",
    "CLIENT_SECRET = 'XPDESZ31JDR4BHRHCE2URAFXQNLIKVCX' # your Foursquare Secret\n",
    "ACCESS_TOKEN = 'GQMA4FVCCE2Y1MXW2WM5SXI3TBSFMCR1D3WSIGPFQF' # your FourSquare Access Token\n",
    "VERSION = '20180604'\n",
    "LIMIT = 30\n",
    "print('Your credentails:')\n",
    "print('CLIENT_ID: ' + CLIENT_ID)\n",
    "print('CLIENT_SECRET:' + CLIENT_SECRET)"
   ]
  }
 ],
 "metadata": {
  "kernelspec": {
   "display_name": "Python",
   "language": "python",
   "name": "conda-env-python-py"
  },
  "language_info": {
   "codemirror_mode": {
    "name": "ipython",
    "version": 3
   },
   "file_extension": ".py",
   "mimetype": "text/x-python",
   "name": "python",
   "nbconvert_exporter": "python",
   "pygments_lexer": "ipython3",
   "version": "3.6.12"
  }
 },
 "nbformat": 4,
 "nbformat_minor": 4
}
